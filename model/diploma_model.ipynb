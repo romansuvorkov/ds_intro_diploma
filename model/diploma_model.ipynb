{
 "cells": [
  {
   "cell_type": "code",
   "execution_count": 1,
   "id": "8f6c4a86",
   "metadata": {},
   "outputs": [],
   "source": [
    "import pandas as pd\n",
    "import numpy as np\n",
    "import matplotlib.pyplot as plt\n",
    "import sklearn\n",
    "from sklearn.preprocessing import OneHotEncoder\n",
    "from sklearn.preprocessing import StandardScaler\n",
    "from sklearn.tree import DecisionTreeClassifier\n",
    "from sklearn.model_selection import train_test_split, cross_val_score, cross_validate\n",
    "from sklearn.metrics import accuracy_score, confusion_matrix\n",
    "from sklearn.neural_network import MLPClassifier\n",
    "from sklearn.ensemble import RandomForestClassifier\n",
    "from sklearn.metrics import roc_auc_score\n",
    "from sklearn.preprocessing import MinMaxScaler\n",
    "from sklearn.utils import resample\n",
    "from geopy.geocoders import Nominatim\n",
    "import seaborn as sns\n",
    "from sklearn.model_selection import train_test_split,GridSearchCV\n",
    "from sklearn.ensemble import RandomForestClassifier\n",
    "from sklearn import preprocessing\n",
    "from sklearn.neighbors import KNeighborsClassifier\n",
    "from sklearn.svm import SVC\n",
    "import missingno as msno\n",
    "import math"
   ]
  },
  {
   "cell_type": "code",
   "execution_count": null,
   "id": "f0531215",
   "metadata": {},
   "outputs": [],
   "source": []
  },
  {
   "cell_type": "markdown",
   "id": "96f70489",
   "metadata": {},
   "source": [
    "# 1. Data preparation"
   ]
  },
  {
   "cell_type": "markdown",
   "id": "58244bdb",
   "metadata": {},
   "source": [
    "## 1.1. Data cleaning"
   ]
  },
  {
   "cell_type": "code",
   "execution_count": 2,
   "id": "80804c76",
   "metadata": {},
   "outputs": [
    {
     "data": {
      "text/html": [
       "<div>\n",
       "<style scoped>\n",
       "    .dataframe tbody tr th:only-of-type {\n",
       "        vertical-align: middle;\n",
       "    }\n",
       "\n",
       "    .dataframe tbody tr th {\n",
       "        vertical-align: top;\n",
       "    }\n",
       "\n",
       "    .dataframe thead th {\n",
       "        text-align: right;\n",
       "    }\n",
       "</style>\n",
       "<table border=\"1\" class=\"dataframe\">\n",
       "  <thead>\n",
       "    <tr style=\"text-align: right;\">\n",
       "      <th></th>\n",
       "      <th>session_id</th>\n",
       "      <th>client_id</th>\n",
       "      <th>visit_date</th>\n",
       "      <th>visit_time</th>\n",
       "      <th>visit_number</th>\n",
       "      <th>utm_source</th>\n",
       "      <th>utm_medium</th>\n",
       "      <th>utm_campaign</th>\n",
       "      <th>utm_adcontent</th>\n",
       "      <th>utm_keyword</th>\n",
       "      <th>device_category</th>\n",
       "      <th>device_os</th>\n",
       "      <th>device_brand</th>\n",
       "      <th>device_model</th>\n",
       "      <th>device_screen_resolution</th>\n",
       "      <th>device_browser</th>\n",
       "      <th>geo_country</th>\n",
       "      <th>geo_city</th>\n",
       "    </tr>\n",
       "  </thead>\n",
       "  <tbody>\n",
       "    <tr>\n",
       "      <th>0</th>\n",
       "      <td>9055434745589932991.1637753792.1637753792</td>\n",
       "      <td>2108382700.1637753791</td>\n",
       "      <td>2021-11-24</td>\n",
       "      <td>14:36:32</td>\n",
       "      <td>1</td>\n",
       "      <td>ZpYIoDJMcFzVoPFsHGJL</td>\n",
       "      <td>banner</td>\n",
       "      <td>LEoPHuyFvzoNfnzGgfcd</td>\n",
       "      <td>vCIpmpaGBnIQhyYNkXqp</td>\n",
       "      <td>puhZPIYqKXeFPaUviSjo</td>\n",
       "      <td>mobile</td>\n",
       "      <td>Android</td>\n",
       "      <td>Huawei</td>\n",
       "      <td>NaN</td>\n",
       "      <td>360x720</td>\n",
       "      <td>Chrome</td>\n",
       "      <td>Russia</td>\n",
       "      <td>Zlatoust</td>\n",
       "    </tr>\n",
       "    <tr>\n",
       "      <th>1</th>\n",
       "      <td>905544597018549464.1636867290.1636867290</td>\n",
       "      <td>210838531.1636867288</td>\n",
       "      <td>2021-11-14</td>\n",
       "      <td>08:21:30</td>\n",
       "      <td>1</td>\n",
       "      <td>MvfHsxITijuriZxsqZqt</td>\n",
       "      <td>cpm</td>\n",
       "      <td>FTjNLDyTrXaWYgZymFkV</td>\n",
       "      <td>xhoenQgDQsgfEPYNPwKO</td>\n",
       "      <td>IGUCNvHlhfHpROGclCit</td>\n",
       "      <td>mobile</td>\n",
       "      <td>Android</td>\n",
       "      <td>Samsung</td>\n",
       "      <td>NaN</td>\n",
       "      <td>385x854</td>\n",
       "      <td>Samsung Internet</td>\n",
       "      <td>Russia</td>\n",
       "      <td>Moscow</td>\n",
       "    </tr>\n",
       "    <tr>\n",
       "      <th>2</th>\n",
       "      <td>9055446045651783499.1640648526.1640648526</td>\n",
       "      <td>2108385331.1640648523</td>\n",
       "      <td>2021-12-28</td>\n",
       "      <td>02:42:06</td>\n",
       "      <td>1</td>\n",
       "      <td>ZpYIoDJMcFzVoPFsHGJL</td>\n",
       "      <td>banner</td>\n",
       "      <td>LEoPHuyFvzoNfnzGgfcd</td>\n",
       "      <td>vCIpmpaGBnIQhyYNkXqp</td>\n",
       "      <td>puhZPIYqKXeFPaUviSjo</td>\n",
       "      <td>mobile</td>\n",
       "      <td>Android</td>\n",
       "      <td>Huawei</td>\n",
       "      <td>NaN</td>\n",
       "      <td>360x720</td>\n",
       "      <td>Chrome</td>\n",
       "      <td>Russia</td>\n",
       "      <td>Krasnoyarsk</td>\n",
       "    </tr>\n",
       "    <tr>\n",
       "      <th>3</th>\n",
       "      <td>9055447046360770272.1622255328.1622255328</td>\n",
       "      <td>2108385564.1622255328</td>\n",
       "      <td>2021-05-29</td>\n",
       "      <td>05:00:00</td>\n",
       "      <td>1</td>\n",
       "      <td>kjsLglQLzykiRbcDiGcD</td>\n",
       "      <td>cpc</td>\n",
       "      <td>NaN</td>\n",
       "      <td>NOBKLgtuvqYWkXQHeYWM</td>\n",
       "      <td>NaN</td>\n",
       "      <td>mobile</td>\n",
       "      <td>None</td>\n",
       "      <td>Xiaomi</td>\n",
       "      <td>NaN</td>\n",
       "      <td>393x786</td>\n",
       "      <td>Chrome</td>\n",
       "      <td>Russia</td>\n",
       "      <td>Moscow</td>\n",
       "    </tr>\n",
       "    <tr>\n",
       "      <th>4</th>\n",
       "      <td>9055447046360770272.1622255345.1622255345</td>\n",
       "      <td>2108385564.1622255328</td>\n",
       "      <td>2021-05-29</td>\n",
       "      <td>05:00:00</td>\n",
       "      <td>2</td>\n",
       "      <td>kjsLglQLzykiRbcDiGcD</td>\n",
       "      <td>cpc</td>\n",
       "      <td>NaN</td>\n",
       "      <td>NaN</td>\n",
       "      <td>NaN</td>\n",
       "      <td>mobile</td>\n",
       "      <td>None</td>\n",
       "      <td>Xiaomi</td>\n",
       "      <td>NaN</td>\n",
       "      <td>393x786</td>\n",
       "      <td>Chrome</td>\n",
       "      <td>Russia</td>\n",
       "      <td>Moscow</td>\n",
       "    </tr>\n",
       "  </tbody>\n",
       "</table>\n",
       "</div>"
      ],
      "text/plain": [
       "                                  session_id              client_id  \\\n",
       "0  9055434745589932991.1637753792.1637753792  2108382700.1637753791   \n",
       "1   905544597018549464.1636867290.1636867290   210838531.1636867288   \n",
       "2  9055446045651783499.1640648526.1640648526  2108385331.1640648523   \n",
       "3  9055447046360770272.1622255328.1622255328  2108385564.1622255328   \n",
       "4  9055447046360770272.1622255345.1622255345  2108385564.1622255328   \n",
       "\n",
       "   visit_date visit_time  visit_number            utm_source utm_medium  \\\n",
       "0  2021-11-24   14:36:32             1  ZpYIoDJMcFzVoPFsHGJL     banner   \n",
       "1  2021-11-14   08:21:30             1  MvfHsxITijuriZxsqZqt        cpm   \n",
       "2  2021-12-28   02:42:06             1  ZpYIoDJMcFzVoPFsHGJL     banner   \n",
       "3  2021-05-29   05:00:00             1  kjsLglQLzykiRbcDiGcD        cpc   \n",
       "4  2021-05-29   05:00:00             2  kjsLglQLzykiRbcDiGcD        cpc   \n",
       "\n",
       "           utm_campaign         utm_adcontent           utm_keyword  \\\n",
       "0  LEoPHuyFvzoNfnzGgfcd  vCIpmpaGBnIQhyYNkXqp  puhZPIYqKXeFPaUviSjo   \n",
       "1  FTjNLDyTrXaWYgZymFkV  xhoenQgDQsgfEPYNPwKO  IGUCNvHlhfHpROGclCit   \n",
       "2  LEoPHuyFvzoNfnzGgfcd  vCIpmpaGBnIQhyYNkXqp  puhZPIYqKXeFPaUviSjo   \n",
       "3                   NaN  NOBKLgtuvqYWkXQHeYWM                   NaN   \n",
       "4                   NaN                   NaN                   NaN   \n",
       "\n",
       "  device_category device_os device_brand device_model  \\\n",
       "0          mobile   Android       Huawei          NaN   \n",
       "1          mobile   Android      Samsung          NaN   \n",
       "2          mobile   Android       Huawei          NaN   \n",
       "3          mobile      None       Xiaomi          NaN   \n",
       "4          mobile      None       Xiaomi          NaN   \n",
       "\n",
       "  device_screen_resolution    device_browser geo_country     geo_city  \n",
       "0                  360x720            Chrome      Russia     Zlatoust  \n",
       "1                  385x854  Samsung Internet      Russia       Moscow  \n",
       "2                  360x720            Chrome      Russia  Krasnoyarsk  \n",
       "3                  393x786            Chrome      Russia       Moscow  \n",
       "4                  393x786            Chrome      Russia       Moscow  "
      ]
     },
     "execution_count": 2,
     "metadata": {},
     "output_type": "execute_result"
    }
   ],
   "source": [
    "df_sessions = pd.read_pickle('data/ga_sessions.pkl')\n",
    "df_sessions.head(5)"
   ]
  },
  {
   "cell_type": "code",
   "execution_count": 3,
   "id": "be68cd69",
   "metadata": {},
   "outputs": [],
   "source": [
    "df_clean = df_sessions.copy()"
   ]
  },
  {
   "cell_type": "code",
   "execution_count": 4,
   "id": "c6c21b30",
   "metadata": {},
   "outputs": [],
   "source": [
    "space_mask = ((df_clean['device_brand'] == '') | (df_clean['device_brand'].str.isspace()))\n",
    "df_clean.loc[space_mask, 'device_brand'] = None\n",
    "not_set_brand_mask = (df_clean['device_brand'] == '(not set)')\n",
    "df_clean.loc[not_set_brand_mask, 'device_brand'] = None\n",
    "not_set_os_mask = (df_clean['device_os'] == '(not set)')\n",
    "df_clean.loc[not_set_os_mask, 'device_os'] = None\n",
    "not_set_browser_mask = (df_clean['device_browser'] == '(not set)')\n",
    "df_clean.loc[not_set_os_mask, 'device_browser'] = None"
   ]
  },
  {
   "cell_type": "code",
   "execution_count": 5,
   "id": "427f0076",
   "metadata": {},
   "outputs": [
    {
     "data": {
      "text/plain": [
       "<Axes: >"
      ]
     },
     "execution_count": 5,
     "metadata": {},
     "output_type": "execute_result"
    },
    {
     "data": {
      "image/png": "[encoded data removed]",
      "text/plain": [
       "<Figure size 2500x1000 with 2 Axes>"
      ]
     },
     "metadata": {},
     "output_type": "display_data"
    }
   ],
   "source": [
    "msno.matrix(df_clean)"
   ]
  },
  {
   "cell_type": "code",
   "execution_count": 6,
   "id": "c54b8cdb",
   "metadata": {},
   "outputs": [],
   "source": [
    "def get_missing_values_percantage(data):\n",
    "  output = (round((data.isna().sum() / len(data)) * 100, 2)).sort_values(ascending=False)\n",
    "  return output"
   ]
  },
  {
   "cell_type": "code",
   "execution_count": 7,
   "id": "3892b879",
   "metadata": {},
   "outputs": [
    {
     "name": "stdout",
     "output_type": "stream",
     "text": [
      "Имеются пропущенные значения device_model: 99.12 %\n",
      "Имеются пропущенные значения utm_keyword: 58.17 %\n",
      "Имеются пропущенные значения device_os: 57.55 %\n",
      "Имеются пропущенные значения device_brand: 20.68 %\n",
      "Имеются пропущенные значения utm_adcontent: 18.04 %\n",
      "Имеются пропущенные значения utm_campaign: 11.81 %\n",
      "Имеются пропущенные значения device_browser: 0.02 %\n",
      "Имеются пропущенные значения utm_source: 0.01 %\n"
     ]
    }
   ],
   "source": [
    "missing_values_sessions = get_missing_values_percantage(df_clean)\n",
    "for index, value in missing_values_sessions.items():\n",
    "  if value > 0:\n",
    "    print(f'Имеются пропущенные значения {index}: {value} %')"
   ]
  },
  {
   "cell_type": "markdown",
   "id": "79c9279d",
   "metadata": {},
   "source": [
    "По возможности заполним пустые значения в device_brand и device_os, на основнии других параметров. Начнем с устройств Apple. Бразуер Safari работает только на их устройствах, поэтому там где нет device_os мы може заполнить значение на iOS или Macintosh."
   ]
  },
  {
   "cell_type": "code",
   "execution_count": 8,
   "id": "10729a75",
   "metadata": {},
   "outputs": [],
   "source": [
    "df_apple_sessions_mobile = ((df_clean['device_brand'] == 'Apple') & (df_clean['device_os'].isna()) & (df_clean['device_category'] == 'mobile'))\n",
    "df_apple_sessions_tablet = ((df_clean['device_brand'] == 'Apple') & (df_clean['device_os'].isna()) & (df_clean['device_category'] == 'tablet'))\n",
    "df_apple_sessions_desktop = ((df_clean['device_brand'] == 'Apple') & (df_clean['device_os'].isna()) & (df_clean['device_category'] == 'desktop'))\n",
    "df_clean.loc[df_apple_sessions_mobile, 'device_os'] = 'iOS'\n",
    "df_clean.loc[df_apple_sessions_tablet, 'device_os'] = 'iOS'\n",
    "df_clean.loc[df_apple_sessions_desktop, 'device_os'] = 'Macintosh'"
   ]
  },
  {
   "cell_type": "code",
   "execution_count": 9,
   "id": "a9ab72d4",
   "metadata": {},
   "outputs": [],
   "source": [
    "df_safari_sessions_mobile_os_na = ((df_clean['device_browser'].str.contains('Safari')) & (df_clean['device_os'].isna()) & (df_clean['device_category'] == 'mobile'))\n",
    "df_safari_sessions_tablet_os_na = ((df_clean['device_browser'].str.contains('Safari')) & (df_clean['device_os'].isna()) & (df_clean['device_category'] == 'tablet'))\n",
    "df_safari_sessions_desktop_os_na = ((df_clean['device_browser'].str.contains('Safari')) & (df_clean['device_os'].isna()) & (df_clean['device_category'] == 'desktop'))\n",
    "df_clean.loc[df_safari_sessions_mobile_os_na, 'device_os'] = 'iOS'\n",
    "df_clean.loc[df_safari_sessions_tablet_os_na, 'device_os'] = 'iOS'\n",
    "df_clean.loc[df_safari_sessions_desktop_os_na, 'device_os'] = 'Macintosh'"
   ]
  },
  {
   "cell_type": "code",
   "execution_count": 10,
   "id": "13007e4a",
   "metadata": {},
   "outputs": [],
   "source": [
    "df_safari_sessions_brand_na = (df_clean['device_browser'].str.contains('Safari') & (df_clean['device_brand'].isna()))\n",
    "apple_mac_mask = ((df_clean['device_os'] == 'Macintosh') & (df_clean['device_brand'].isna()))\n",
    "df_clean.loc[df_safari_sessions_brand_na, 'device_brand'] = 'Apple'\n",
    "df_clean.loc[apple_mac_mask, 'device_brand'] = 'Apple'"
   ]
  },
  {
   "cell_type": "code",
   "execution_count": 11,
   "id": "043dc85b",
   "metadata": {},
   "outputs": [
    {
     "name": "stdout",
     "output_type": "stream",
     "text": [
      "Имеются пропущенные значения device_model: 99.12 %\n",
      "Имеются пропущенные значения utm_keyword: 58.17 %\n",
      "Имеются пропущенные значения device_os: 37.58 %\n",
      "Имеются пропущенные значения utm_adcontent: 18.04 %\n",
      "Имеются пропущенные значения device_brand: 17.87 %\n",
      "Имеются пропущенные значения utm_campaign: 11.81 %\n",
      "Имеются пропущенные значения device_browser: 0.02 %\n",
      "Имеются пропущенные значения utm_source: 0.01 %\n"
     ]
    }
   ],
   "source": [
    "missing_values_sessions = get_missing_values_percantage(df_clean)\n",
    "for index, value in missing_values_sessions.items():\n",
    "  if value > 0:\n",
    "    print(f'Имеются пропущенные значения {index}: {value} %')"
   ]
  },
  {
   "cell_type": "markdown",
   "id": "0d43014b",
   "metadata": {},
   "source": [
    "Т.к. даже после заполнения device_model, utm_keyword, device_osсодержит более 20% пропусков считем эти солбцы не информативными и удаляем их."
   ]
  },
  {
   "cell_type": "code",
   "execution_count": 12,
   "id": "9c9306ed",
   "metadata": {},
   "outputs": [],
   "source": [
    "df_clean = df_clean.drop(['device_model', 'utm_keyword', 'device_os'], axis=1)"
   ]
  },
  {
   "cell_type": "markdown",
   "id": "25ef1120",
   "metadata": {},
   "source": [
    "В столбце device_brand заполним пропуски значением Unknown"
   ]
  },
  {
   "cell_type": "code",
   "execution_count": 13,
   "id": "671cce74",
   "metadata": {},
   "outputs": [],
   "source": [
    "df_clean.loc[df_clean['device_brand'].isna(), 'device_brand'] = 'Unknown'"
   ]
  },
  {
   "cell_type": "code",
   "execution_count": 14,
   "id": "833947d2",
   "metadata": {},
   "outputs": [
    {
     "data": {
      "text/plain": [
       "<Axes: >"
      ]
     },
     "execution_count": 14,
     "metadata": {},
     "output_type": "execute_result"
    },
    {
     "data": {
      "image/png": "[encoded data removed]",
      "text/plain": [
       "<Figure size 2500x1000 with 2 Axes>"
      ]
     },
     "metadata": {},
     "output_type": "display_data"
    }
   ],
   "source": [
    "msno.matrix(df_clean)"
   ]
  },
  {
   "cell_type": "code",
   "execution_count": 15,
   "id": "b26bcecf",
   "metadata": {},
   "outputs": [
    {
     "name": "stdout",
     "output_type": "stream",
     "text": [
      "Имеются пропущенные значения utm_adcontent: 18.04 %\n",
      "Имеются пропущенные значения utm_campaign: 11.81 %\n",
      "Имеются пропущенные значения device_browser: 0.02 %\n",
      "Имеются пропущенные значения utm_source: 0.01 %\n"
     ]
    }
   ],
   "source": [
    "missing_values_sessions = get_missing_values_percantage(df_clean)\n",
    "for index, value in missing_values_sessions.items():\n",
    "  if value > 0:\n",
    "    print(f'Имеются пропущенные значения {index}: {value} %')"
   ]
  },
  {
   "cell_type": "markdown",
   "id": "ee113943",
   "metadata": {},
   "source": [
    "## 1.2. Удаление выбросов"
   ]
  },
  {
   "cell_type": "code",
   "execution_count": 16,
   "id": "6b67b600",
   "metadata": {},
   "outputs": [],
   "source": [
    "def get_boundaries(data):\n",
    "    q25 = data.quantile(0.25)\n",
    "    q75 = data.quantile(0.75)\n",
    "    iqr = q75 - q25\n",
    "    boundaries = (round(q25 - 1.5 * iqr), round(q75 + 1.5 * iqr))\n",
    "    return boundaries"
   ]
  },
  {
   "cell_type": "code",
   "execution_count": 17,
   "id": "3fd97dd6",
   "metadata": {},
   "outputs": [
    {
     "data": {
      "text/plain": [
       "1      1376349\n",
       "2       235656\n",
       "3        81068\n",
       "4        41666\n",
       "5        24271\n",
       "        ...   \n",
       "419          1\n",
       "420          1\n",
       "421          1\n",
       "422          1\n",
       "564          1\n",
       "Name: visit_number, Length: 537, dtype: int64"
      ]
     },
     "execution_count": 17,
     "metadata": {},
     "output_type": "execute_result"
    }
   ],
   "source": [
    "df_clean['visit_number'].value_counts()"
   ]
  },
  {
   "cell_type": "code",
   "execution_count": 18,
   "id": "8e570ad5",
   "metadata": {},
   "outputs": [
    {
     "data": {
      "text/plain": [
       "(0, 4)"
      ]
     },
     "execution_count": 18,
     "metadata": {},
     "output_type": "execute_result"
    }
   ],
   "source": [
    "boundaries = get_boundaries(df_clean['visit_number'])\n",
    "boundaries"
   ]
  },
  {
   "cell_type": "code",
   "execution_count": 19,
   "id": "eb3c49d9",
   "metadata": {},
   "outputs": [
    {
     "data": {
      "text/plain": [
       "125303"
      ]
     },
     "execution_count": 19,
     "metadata": {},
     "output_type": "execute_result"
    }
   ],
   "source": [
    "is_outlier = (df_clean['visit_number'] < boundaries[0]) | (df_clean['visit_number'] > boundaries[1])\n",
    "is_outlier.sum()"
   ]
  },
  {
   "cell_type": "code",
   "execution_count": 20,
   "id": "65223cbc",
   "metadata": {},
   "outputs": [],
   "source": [
    "df_clean.loc[is_outlier, 'visit_number'] = boundaries[1]\n",
    "boundaries = None"
   ]
  },
  {
   "cell_type": "code",
   "execution_count": 21,
   "id": "2f64e8ef",
   "metadata": {},
   "outputs": [
    {
     "data": {
      "text/plain": [
       "1    1376349\n",
       "2     235656\n",
       "4     166969\n",
       "3      81068\n",
       "Name: visit_number, dtype: int64"
      ]
     },
     "execution_count": 21,
     "metadata": {},
     "output_type": "execute_result"
    }
   ],
   "source": [
    "df_clean['visit_number'].value_counts()"
   ]
  },
  {
   "cell_type": "markdown",
   "id": "63307985",
   "metadata": {},
   "source": [
    "## 1.3 Загрузка и фильтрация df_hits"
   ]
  },
  {
   "cell_type": "markdown",
   "id": "9d756d71",
   "metadata": {},
   "source": [
    "Отфильтруем значения в df_hits, оставив только целевые"
   ]
  },
  {
   "cell_type": "code",
   "execution_count": 4,
   "id": "a78cd183",
   "metadata": {},
   "outputs": [],
   "source": [
    "df_hits = pd.read_pickle('data/ga_hits.pkl')"
   ]
  },
  {
   "cell_type": "code",
   "execution_count": 5,
   "id": "ce8b8c3d",
   "metadata": {},
   "outputs": [
    {
     "data": {
      "text/html": [
       "<div>\n",
       "<style scoped>\n",
       "    .dataframe tbody tr th:only-of-type {\n",
       "        vertical-align: middle;\n",
       "    }\n",
       "\n",
       "    .dataframe tbody tr th {\n",
       "        vertical-align: top;\n",
       "    }\n",
       "\n",
       "    .dataframe thead th {\n",
       "        text-align: right;\n",
       "    }\n",
       "</style>\n",
       "<table border=\"1\" class=\"dataframe\">\n",
       "  <thead>\n",
       "    <tr style=\"text-align: right;\">\n",
       "      <th></th>\n",
       "      <th>session_id</th>\n",
       "      <th>hit_date</th>\n",
       "      <th>hit_time</th>\n",
       "      <th>hit_number</th>\n",
       "      <th>hit_type</th>\n",
       "      <th>hit_referer</th>\n",
       "      <th>hit_page_path</th>\n",
       "      <th>event_category</th>\n",
       "      <th>event_action</th>\n",
       "      <th>event_label</th>\n",
       "      <th>event_value</th>\n",
       "    </tr>\n",
       "  </thead>\n",
       "  <tbody>\n",
       "    <tr>\n",
       "      <th>0</th>\n",
       "      <td>5639623078712724064.1640254056.1640254056</td>\n",
       "      <td>2021-12-23</td>\n",
       "      <td>597864.0</td>\n",
       "      <td>30</td>\n",
       "      <td>event</td>\n",
       "      <td>NaN</td>\n",
       "      <td>sberauto.com/cars?utm_source_initial=google&amp;ut...</td>\n",
       "      <td>quiz</td>\n",
       "      <td>quiz_show</td>\n",
       "      <td>NaN</td>\n",
       "      <td>None</td>\n",
       "    </tr>\n",
       "    <tr>\n",
       "      <th>1</th>\n",
       "      <td>7750352294969115059.1640271109.1640271109</td>\n",
       "      <td>2021-12-23</td>\n",
       "      <td>597331.0</td>\n",
       "      <td>41</td>\n",
       "      <td>event</td>\n",
       "      <td>NaN</td>\n",
       "      <td>sberauto.com/cars/fiat?city=1&amp;city=18&amp;rental_c...</td>\n",
       "      <td>quiz</td>\n",
       "      <td>quiz_show</td>\n",
       "      <td>NaN</td>\n",
       "      <td>None</td>\n",
       "    </tr>\n",
       "    <tr>\n",
       "      <th>2</th>\n",
       "      <td>885342191847998240.1640235807.1640235807</td>\n",
       "      <td>2021-12-23</td>\n",
       "      <td>796252.0</td>\n",
       "      <td>49</td>\n",
       "      <td>event</td>\n",
       "      <td>NaN</td>\n",
       "      <td>sberauto.com/cars/all/volkswagen/polo/e994838f...</td>\n",
       "      <td>quiz</td>\n",
       "      <td>quiz_show</td>\n",
       "      <td>NaN</td>\n",
       "      <td>None</td>\n",
       "    </tr>\n",
       "    <tr>\n",
       "      <th>3</th>\n",
       "      <td>142526202120934167.1640211014.1640211014</td>\n",
       "      <td>2021-12-23</td>\n",
       "      <td>934292.0</td>\n",
       "      <td>46</td>\n",
       "      <td>event</td>\n",
       "      <td>NaN</td>\n",
       "      <td>sberauto.com/cars?utm_source_initial=yandex&amp;ut...</td>\n",
       "      <td>quiz</td>\n",
       "      <td>quiz_show</td>\n",
       "      <td>NaN</td>\n",
       "      <td>None</td>\n",
       "    </tr>\n",
       "    <tr>\n",
       "      <th>4</th>\n",
       "      <td>3450086108837475701.1640265078.1640265078</td>\n",
       "      <td>2021-12-23</td>\n",
       "      <td>768741.0</td>\n",
       "      <td>79</td>\n",
       "      <td>event</td>\n",
       "      <td>NaN</td>\n",
       "      <td>sberauto.com/cars/all/mercedes-benz/cla-klasse...</td>\n",
       "      <td>quiz</td>\n",
       "      <td>quiz_show</td>\n",
       "      <td>NaN</td>\n",
       "      <td>None</td>\n",
       "    </tr>\n",
       "  </tbody>\n",
       "</table>\n",
       "</div>"
      ],
      "text/plain": [
       "                                  session_id    hit_date  hit_time  \\\n",
       "0  5639623078712724064.1640254056.1640254056  2021-12-23  597864.0   \n",
       "1  7750352294969115059.1640271109.1640271109  2021-12-23  597331.0   \n",
       "2   885342191847998240.1640235807.1640235807  2021-12-23  796252.0   \n",
       "3   142526202120934167.1640211014.1640211014  2021-12-23  934292.0   \n",
       "4  3450086108837475701.1640265078.1640265078  2021-12-23  768741.0   \n",
       "\n",
       "   hit_number hit_type hit_referer  \\\n",
       "0          30    event         NaN   \n",
       "1          41    event         NaN   \n",
       "2          49    event         NaN   \n",
       "3          46    event         NaN   \n",
       "4          79    event         NaN   \n",
       "\n",
       "                                       hit_page_path event_category  \\\n",
       "0  sberauto.com/cars?utm_source_initial=google&ut...           quiz   \n",
       "1  sberauto.com/cars/fiat?city=1&city=18&rental_c...           quiz   \n",
       "2  sberauto.com/cars/all/volkswagen/polo/e994838f...           quiz   \n",
       "3  sberauto.com/cars?utm_source_initial=yandex&ut...           quiz   \n",
       "4  sberauto.com/cars/all/mercedes-benz/cla-klasse...           quiz   \n",
       "\n",
       "  event_action event_label event_value  \n",
       "0    quiz_show         NaN        None  \n",
       "1    quiz_show         NaN        None  \n",
       "2    quiz_show         NaN        None  \n",
       "3    quiz_show         NaN        None  \n",
       "4    quiz_show         NaN        None  "
      ]
     },
     "execution_count": 5,
     "metadata": {},
     "output_type": "execute_result"
    }
   ],
   "source": [
    "df_hits.head(5)"
   ]
  },
  {
   "cell_type": "code",
   "execution_count": 6,
   "id": "ef23dee7",
   "metadata": {},
   "outputs": [],
   "source": [
    "df_hits_filtered = df_hits[((df_hits['event_action'] == 'sub_car_claim_click') | (df_hits['event_action'] == 'sub_car_claim_submit_click') | (df_hits['event_action'] == 'sub_open_dialog_click') | (df_hits['event_action'] == 'sub_custom_question_submit_click') | (df_hits['event_action'] == 'sub_call_number_click') | (df_hits['event_action'] == 'sub_callback_submit_click') | (df_hits['event_action'] == 'sub_submit_success') | (df_hits['event_action'] == 'sub_car_request_submit_click'))]"
   ]
  },
  {
   "cell_type": "code",
   "execution_count": 7,
   "id": "ab3fdf4d",
   "metadata": {},
   "outputs": [
    {
     "data": {
      "text/plain": [
       "(104908, 11)"
      ]
     },
     "execution_count": 7,
     "metadata": {},
     "output_type": "execute_result"
    }
   ],
   "source": [
    "df_hits_filtered.shape"
   ]
  },
  {
   "cell_type": "markdown",
   "id": "3bcc6267",
   "metadata": {},
   "source": [
    "Объеденим датафреймы"
   ]
  },
  {
   "cell_type": "code",
   "execution_count": 8,
   "id": "75627436",
   "metadata": {
    "scrolled": true
   },
   "outputs": [],
   "source": [
    "df_hits = df_hits_filtered.groupby('session_id').count()\n",
    "merged_df = pd.merge(df_clean, df_hits[['event_action']], on='session_id', how='left')\n",
    "merged_df.loc[merged_df['event_action'].isna(), 'event_action'] = 0"
   ]
  },
  {
   "cell_type": "code",
   "execution_count": 9,
   "id": "83462892",
   "metadata": {},
   "outputs": [],
   "source": [
    "merged_df.loc[merged_df['event_action'] > 0, 'event_action'] = 1"
   ]
  },
  {
   "cell_type": "markdown",
   "id": "9a3db9ac",
   "metadata": {},
   "source": [
    "Удалим неинформативные колонки"
   ]
  },
  {
   "cell_type": "code",
   "execution_count": 28,
   "id": "69eb1344",
   "metadata": {},
   "outputs": [],
   "source": [
    "merged_df = merged_df.drop(['session_id', 'client_id'], axis=1)"
   ]
  },
  {
   "cell_type": "markdown",
   "id": "7012f738",
   "metadata": {},
   "source": [
    "## 1.4 Data type conversion"
   ]
  },
  {
   "cell_type": "code",
   "execution_count": 29,
   "id": "fc6b26cb",
   "metadata": {},
   "outputs": [],
   "source": [
    "merged_df['visit_time'] = merged_df['visit_time'].astype('str')\n",
    "merged_df['event_action'] = merged_df['event_action'].astype('int64')"
   ]
  },
  {
   "cell_type": "markdown",
   "id": "571a459f",
   "metadata": {},
   "source": [
    "Очистим датафрейм от данных с пропусками в device_browser, utm_source, utm_campaign, utm_adcontent"
   ]
  },
  {
   "cell_type": "code",
   "execution_count": 30,
   "id": "bb9349d6",
   "metadata": {},
   "outputs": [],
   "source": [
    "merged_df = merged_df[merged_df['utm_source'].notna()]\n",
    "merged_df = merged_df[merged_df['device_browser'].notna()]\n",
    "merged_df = merged_df[merged_df['utm_campaign'].notna()]\n",
    "merged_df = merged_df[merged_df['utm_adcontent'].notna()]"
   ]
  },
  {
   "cell_type": "code",
   "execution_count": 31,
   "id": "e05032f3",
   "metadata": {},
   "outputs": [
    {
     "name": "stdout",
     "output_type": "stream",
     "text": [
      "Имеются пропущенные значения utm_adcontent: 18.04 %\n",
      "Имеются пропущенные значения utm_campaign: 11.81 %\n",
      "Имеются пропущенные значения device_browser: 0.02 %\n",
      "Имеются пропущенные значения utm_source: 0.01 %\n"
     ]
    }
   ],
   "source": [
    "missing_values_sessions = get_missing_values_percantage(df_clean)\n",
    "for index, value in missing_values_sessions.items():\n",
    "  if value > 0:\n",
    "    print(f'Имеются пропущенные значения {index}: {value} %')"
   ]
  },
  {
   "cell_type": "markdown",
   "id": "b570f39d",
   "metadata": {},
   "source": [
    "Сохраним объединенный датафрейм"
   ]
  },
  {
   "cell_type": "markdown",
   "id": "766c8e8f",
   "metadata": {},
   "source": [
    "## 1.5 Сохранение объединенного датафрейма"
   ]
  },
  {
   "cell_type": "code",
   "execution_count": 32,
   "id": "5a16d362",
   "metadata": {},
   "outputs": [],
   "source": [
    "merged_df.to_csv('data/merged_df_new.csv') "
   ]
  },
  {
   "cell_type": "code",
   "execution_count": 16,
   "id": "90ab93be",
   "metadata": {},
   "outputs": [
    {
     "data": {
      "text/plain": [
       "2343"
      ]
     },
     "execution_count": 16,
     "metadata": {},
     "output_type": "execute_result"
    }
   ],
   "source": [
    "test = merged_df.copy()\n",
    "test.loc[:, ['geo_city_lower']] = test['geo_city'].apply(labmda x: )\n",
    "output = test['geo_city'].unique()\n",
    "len(output)"
   ]
  },
  {
   "cell_type": "markdown",
   "id": "9222a2bf",
   "metadata": {},
   "source": [
    "# 2. Feature engeneering"
   ]
  },
  {
   "cell_type": "code",
   "execution_count": 18,
   "id": "d87fab37",
   "metadata": {},
   "outputs": [],
   "source": [
    "merged_df = pd.read_csv('data/merged_df_new.csv', index_col=0)"
   ]
  },
  {
   "cell_type": "markdown",
   "id": "620b4594",
   "metadata": {},
   "source": [
    "## 2.1 Generation new features"
   ]
  },
  {
   "cell_type": "code",
   "execution_count": 6,
   "id": "961b38d1",
   "metadata": {},
   "outputs": [],
   "source": [
    "def encode_city_location(city_name, geolocator):\n",
    "    location = geolocator.geocode(city_name)\n",
    "    if not location:\n",
    "        print(city_name)\n",
    "        location = geolocator.geocode('(not set)')\n",
    "    return [location.latitude, location.longitude]"
   ]
  },
  {
   "cell_type": "code",
   "execution_count": 7,
   "id": "decefe41",
   "metadata": {},
   "outputs": [],
   "source": [
    "def get_city_names_list(df_column):\n",
    "    output = df_column.unique()\n",
    "    return output"
   ]
  },
  {
   "cell_type": "code",
   "execution_count": 8,
   "id": "ca32ebb6",
   "metadata": {},
   "outputs": [],
   "source": [
    "def calculate_city_coords(cities_list, geolocator):\n",
    "    output = dict()\n",
    "    for city_name in cities_list:\n",
    "        output[city_name] = encode_city_location(city_name, geolocator)\n",
    "    return output"
   ]
  },
  {
   "cell_type": "code",
   "execution_count": 36,
   "id": "1581bc6e",
   "metadata": {},
   "outputs": [
    {
     "name": "stdout",
     "output_type": "stream",
     "text": [
      "Tuymazy\n",
      "Petrovo-Dalneye\n",
      "Yablonovsky\n",
      "Oktyabrs'ke\n",
      "Zagorjanskas\n",
      "Belebey\n",
      "Armyans'k\n",
      "Khartsyz'k\n",
      "Novoye Devyatkino\n",
      "Krasnoturyinsk\n",
      "Zhigulevsk\n",
      "Kalininets\n",
      "Chusovskoye Urban Settlement\n",
      "Yenakijeve\n",
      "Shakhtars'k\n",
      "Debal'tseve\n",
      "Velykodolyns'ke\n",
      "Pervomais'k\n",
      "Troedobelikovskiy\n",
      "Chornomors'ke\n",
      "Kolomyya\n",
      "Roven'ky\n",
      "Alchevs'k\n",
      "Hresivs'kyi\n",
      "Dzhankoi\n",
      "Berdyans'k\n",
      "Arsenyev\n",
      "Dobropillya\n",
      "Dorokhovskoja\n",
      "Emel'yanovo\n",
      "Bilohirs'k\n",
      "Novomikhailovskii\n",
      "Ilovais'k\n",
      "Voronezjskaja\n",
      "Wolno-Nadeschdinskoje\n",
      "Zavolzhye\n",
      "Veliky Ustyug\n",
      "Chystiakove\n",
      "Krasnohvardiis'ke\n",
      "Sovjets'kyi\n",
      "Novoazovs'k\n",
      "Lorenskog Municipality\n",
      "Artemovskiy\n",
      "Dokuchajevs'k\n",
      "Mohyliv-Podil's'kyi\n",
      "Starobil's'k\n",
      "Yuzhnoukrains'k\n",
      "Krasnoperekops'k\n",
      "Stolberg (Rhineland)\n",
      "Timiskaming, Unorganized, East Part\n",
      "Bilhorod-Dnistrovs'kyi\n",
      "Fredrikstad Municipality\n",
      "Novoukrainskoye\n",
      "Pereval's'k\n",
      "Lyubotyn\n",
      "Sandnes Municipality\n",
      "Korsun'-Shevchenkivs'kyi\n",
      "Kostyantynivka\n",
      "Synel'nykove\n",
      "Novhorod-Sivers'kyi\n",
      "Stavanger Municipality\n",
      "Nyzhnya Krynka\n",
      "Novohrad-Volyns'kyi\n",
      "Mikkeli Province\n",
      "Ullensaker Municipality\n",
      "Kam'yanets'-Podil's'kyi\n",
      "Sokouri\n",
      "Kawachi District\n",
      "Pak Phriao\n",
      "Chernomorskii\n",
      "Yunokomunarivs'k\n",
      "Pervomais'kyi\n",
      "Vovchans'k\n",
      "Kresttsy\n",
      "Steinkjer Municipality\n"
     ]
    },
    {
     "data": {
      "text/html": [
       "<div>\n",
       "<style scoped>\n",
       "    .dataframe tbody tr th:only-of-type {\n",
       "        vertical-align: middle;\n",
       "    }\n",
       "\n",
       "    .dataframe tbody tr th {\n",
       "        vertical-align: top;\n",
       "    }\n",
       "\n",
       "    .dataframe thead th {\n",
       "        text-align: right;\n",
       "    }\n",
       "</style>\n",
       "<table border=\"1\" class=\"dataframe\">\n",
       "  <thead>\n",
       "    <tr style=\"text-align: right;\">\n",
       "      <th></th>\n",
       "      <th>visit_date</th>\n",
       "      <th>visit_time</th>\n",
       "      <th>visit_number</th>\n",
       "      <th>utm_source</th>\n",
       "      <th>utm_medium</th>\n",
       "      <th>utm_campaign</th>\n",
       "      <th>utm_adcontent</th>\n",
       "      <th>device_category</th>\n",
       "      <th>device_brand</th>\n",
       "      <th>device_screen_resolution</th>\n",
       "      <th>device_browser</th>\n",
       "      <th>geo_country</th>\n",
       "      <th>geo_city</th>\n",
       "      <th>event_action</th>\n",
       "      <th>city_lat</th>\n",
       "      <th>city_long</th>\n",
       "    </tr>\n",
       "  </thead>\n",
       "  <tbody>\n",
       "    <tr>\n",
       "      <th>0</th>\n",
       "      <td>2021-11-24</td>\n",
       "      <td>14:36:32</td>\n",
       "      <td>1</td>\n",
       "      <td>ZpYIoDJMcFzVoPFsHGJL</td>\n",
       "      <td>banner</td>\n",
       "      <td>LEoPHuyFvzoNfnzGgfcd</td>\n",
       "      <td>vCIpmpaGBnIQhyYNkXqp</td>\n",
       "      <td>mobile</td>\n",
       "      <td>Huawei</td>\n",
       "      <td>360x720</td>\n",
       "      <td>Chrome</td>\n",
       "      <td>Russia</td>\n",
       "      <td>Zlatoust</td>\n",
       "      <td>0</td>\n",
       "      <td>55.167421</td>\n",
       "      <td>59.679263</td>\n",
       "    </tr>\n",
       "    <tr>\n",
       "      <th>1</th>\n",
       "      <td>2021-11-14</td>\n",
       "      <td>08:21:30</td>\n",
       "      <td>1</td>\n",
       "      <td>MvfHsxITijuriZxsqZqt</td>\n",
       "      <td>cpm</td>\n",
       "      <td>FTjNLDyTrXaWYgZymFkV</td>\n",
       "      <td>xhoenQgDQsgfEPYNPwKO</td>\n",
       "      <td>mobile</td>\n",
       "      <td>Samsung</td>\n",
       "      <td>385x854</td>\n",
       "      <td>Samsung Internet</td>\n",
       "      <td>Russia</td>\n",
       "      <td>Moscow</td>\n",
       "      <td>0</td>\n",
       "      <td>55.750446</td>\n",
       "      <td>37.617494</td>\n",
       "    </tr>\n",
       "    <tr>\n",
       "      <th>2</th>\n",
       "      <td>2021-12-28</td>\n",
       "      <td>02:42:06</td>\n",
       "      <td>1</td>\n",
       "      <td>ZpYIoDJMcFzVoPFsHGJL</td>\n",
       "      <td>banner</td>\n",
       "      <td>LEoPHuyFvzoNfnzGgfcd</td>\n",
       "      <td>vCIpmpaGBnIQhyYNkXqp</td>\n",
       "      <td>mobile</td>\n",
       "      <td>Huawei</td>\n",
       "      <td>360x720</td>\n",
       "      <td>Chrome</td>\n",
       "      <td>Russia</td>\n",
       "      <td>Krasnoyarsk</td>\n",
       "      <td>0</td>\n",
       "      <td>56.009097</td>\n",
       "      <td>92.872515</td>\n",
       "    </tr>\n",
       "    <tr>\n",
       "      <th>5</th>\n",
       "      <td>2021-05-31</td>\n",
       "      <td>12:00:00</td>\n",
       "      <td>1</td>\n",
       "      <td>kjsLglQLzykiRbcDiGcD</td>\n",
       "      <td>organic</td>\n",
       "      <td>LTuZkdKfxRGVceoWkVyg</td>\n",
       "      <td>JNHcPlZPxEMWDnRiyoBf</td>\n",
       "      <td>mobile</td>\n",
       "      <td>Apple</td>\n",
       "      <td>375x812</td>\n",
       "      <td>Safari</td>\n",
       "      <td>Russia</td>\n",
       "      <td>Saint Petersburg</td>\n",
       "      <td>0</td>\n",
       "      <td>27.770380</td>\n",
       "      <td>-82.669509</td>\n",
       "    </tr>\n",
       "    <tr>\n",
       "      <th>6</th>\n",
       "      <td>2021-12-30</td>\n",
       "      <td>08:56:28</td>\n",
       "      <td>1</td>\n",
       "      <td>TxKUcPpthBDPieTGmVhx</td>\n",
       "      <td>cpc</td>\n",
       "      <td>FTjNLDyTrXaWYgZymFkV</td>\n",
       "      <td>LcGIUNPUAmXtQJaDfFBR</td>\n",
       "      <td>tablet</td>\n",
       "      <td>Lenovo</td>\n",
       "      <td>602x1029</td>\n",
       "      <td>YaBrowser</td>\n",
       "      <td>Russia</td>\n",
       "      <td>Saint Petersburg</td>\n",
       "      <td>0</td>\n",
       "      <td>27.770380</td>\n",
       "      <td>-82.669509</td>\n",
       "    </tr>\n",
       "  </tbody>\n",
       "</table>\n",
       "</div>"
      ],
      "text/plain": [
       "   visit_date visit_time  visit_number            utm_source utm_medium  \\\n",
       "0  2021-11-24   14:36:32             1  ZpYIoDJMcFzVoPFsHGJL     banner   \n",
       "1  2021-11-14   08:21:30             1  MvfHsxITijuriZxsqZqt        cpm   \n",
       "2  2021-12-28   02:42:06             1  ZpYIoDJMcFzVoPFsHGJL     banner   \n",
       "5  2021-05-31   12:00:00             1  kjsLglQLzykiRbcDiGcD    organic   \n",
       "6  2021-12-30   08:56:28             1  TxKUcPpthBDPieTGmVhx        cpc   \n",
       "\n",
       "           utm_campaign         utm_adcontent device_category device_brand  \\\n",
       "0  LEoPHuyFvzoNfnzGgfcd  vCIpmpaGBnIQhyYNkXqp          mobile       Huawei   \n",
       "1  FTjNLDyTrXaWYgZymFkV  xhoenQgDQsgfEPYNPwKO          mobile      Samsung   \n",
       "2  LEoPHuyFvzoNfnzGgfcd  vCIpmpaGBnIQhyYNkXqp          mobile       Huawei   \n",
       "5  LTuZkdKfxRGVceoWkVyg  JNHcPlZPxEMWDnRiyoBf          mobile        Apple   \n",
       "6  FTjNLDyTrXaWYgZymFkV  LcGIUNPUAmXtQJaDfFBR          tablet       Lenovo   \n",
       "\n",
       "  device_screen_resolution    device_browser geo_country          geo_city  \\\n",
       "0                  360x720            Chrome      Russia          Zlatoust   \n",
       "1                  385x854  Samsung Internet      Russia            Moscow   \n",
       "2                  360x720            Chrome      Russia       Krasnoyarsk   \n",
       "5                  375x812            Safari      Russia  Saint Petersburg   \n",
       "6                 602x1029         YaBrowser      Russia  Saint Petersburg   \n",
       "\n",
       "   event_action   city_lat  city_long  \n",
       "0             0  55.167421  59.679263  \n",
       "1             0  55.750446  37.617494  \n",
       "2             0  56.009097  92.872515  \n",
       "5             0  27.770380 -82.669509  \n",
       "6             0  27.770380 -82.669509  "
      ]
     },
     "execution_count": 36,
     "metadata": {},
     "output_type": "execute_result"
    }
   ],
   "source": [
    "geolocator = Nominatim(user_agent=\"my_application\")\n",
    "city_names_list = get_city_names_list(merged_df['geo_city'])\n",
    "city_coords_list = calculate_city_coords(city_names_list, geolocator)\n",
    "for item in city_coords_list:\n",
    "    merged_df.loc[merged_df['geo_city'] == item, ['city_lat', 'city_long']] = city_coords_list[item][0], city_coords_list[item][1],\n",
    "merged_df.head(5)"
   ]
  },
  {
   "cell_type": "code",
   "execution_count": 37,
   "id": "50668ef1",
   "metadata": {},
   "outputs": [],
   "source": [
    "merged_df['short_browser'] = merged_df['device_browser'].apply(lambda x: x.split(' ')[0])"
   ]
  },
  {
   "cell_type": "code",
   "execution_count": 38,
   "id": "d0733ef8",
   "metadata": {},
   "outputs": [],
   "source": [
    "merged_df = merged_df.drop([\n",
    "    'device_browser',\n",
    "], axis=1)"
   ]
  },
  {
   "cell_type": "code",
   "execution_count": 39,
   "id": "01d998d5",
   "metadata": {},
   "outputs": [],
   "source": [
    "def calculate_hour(income_string):\n",
    "    splitted_string = income_string.split(':')\n",
    "    hour = int(splitted_string[0])\n",
    "    minutes = int(splitted_string[1])\n",
    "    if minutes > 30:\n",
    "        if hour == 23:\n",
    "            hour = 0\n",
    "        else:\n",
    "            hour += 1\n",
    "    return hour"
   ]
  },
  {
   "cell_type": "code",
   "execution_count": 40,
   "id": "c40ff886",
   "metadata": {},
   "outputs": [],
   "source": [
    "merged_df['visit_date'] = pd.to_datetime(merged_df['visit_date'])\n",
    "merged_df['visit_dayofweek'] = merged_df['visit_date'].dt.dayofweek\n",
    "merged_df['visit_day'] = merged_df['visit_date'].dt.day\n",
    "merged_df['visit_month'] = merged_df['visit_date'].dt.month\n",
    "merged_df['visit_hour'] = merged_df['visit_time'].apply(lambda x: calculate_hour(x))"
   ]
  },
  {
   "cell_type": "code",
   "execution_count": 41,
   "id": "893ca9e2",
   "metadata": {},
   "outputs": [],
   "source": [
    "merged_df = merged_df.drop([\n",
    "    'visit_date',\n",
    "    'visit_time',\n",
    "], axis=1)"
   ]
  },
  {
   "cell_type": "code",
   "execution_count": 42,
   "id": "c1d20839",
   "metadata": {},
   "outputs": [],
   "source": [
    "def fill_pixel_sum(income_string):\n",
    "    if income_string == '(not set)':\n",
    "        return 10\n",
    "    splitted_string = income_string.split('x')\n",
    "    pixel_sum = int(splitted_string[0]) * int(splitted_string[1])\n",
    "    return pixel_sum"
   ]
  },
  {
   "cell_type": "code",
   "execution_count": 43,
   "id": "fc1be8fe",
   "metadata": {},
   "outputs": [],
   "source": [
    "def encode_pixels(income_row):\n",
    "    income_string = income_row['device_screen_resolution']\n",
    "    if income_string == '(not set)':\n",
    "        return [10, 10]\n",
    "    splitted_string = income_string.split('x')\n",
    "    pixel_sum = int(splitted_string[0]) * int(splitted_string[1])\n",
    "    return [int(splitted_string[0]), int(splitted_string[1])]\n",
    "\n",
    "pixel_numbers = merged_df.apply(lambda x: encode_pixels(x), axis=1, result_type='expand')\n",
    "pixel_numbers.columns = ['pixel_width', 'pixel_height']\n",
    "merged_df = pd.concat([merged_df.reset_index(drop=True), pixel_numbers.reset_index(drop=True)], axis=1)"
   ]
  },
  {
   "cell_type": "code",
   "execution_count": 44,
   "id": "3bff7858",
   "metadata": {},
   "outputs": [],
   "source": [
    "merged_df = merged_df.drop([\n",
    "    'device_screen_resolution',\n",
    "], axis=1)"
   ]
  },
  {
   "cell_type": "code",
   "execution_count": 45,
   "id": "fc3c84a9",
   "metadata": {},
   "outputs": [],
   "source": [
    "merged_df['pixel_width'] = merged_df['pixel_width'].apply(lambda x: x/10)\n",
    "merged_df['pixel_width'] = merged_df['pixel_width'].round(0)\n",
    "merged_df['pixel_height'] = merged_df['pixel_height'].apply(lambda x: x/10)\n",
    "merged_df['pixel_height'] = merged_df['pixel_height'].round(0)"
   ]
  },
  {
   "cell_type": "code",
   "execution_count": 46,
   "id": "6387d952",
   "metadata": {
    "scrolled": false
   },
   "outputs": [],
   "source": [
    "merged_df.to_csv('data/merged_df_city_encoded.csv') "
   ]
  },
  {
   "cell_type": "markdown",
   "id": "d9075aa6",
   "metadata": {},
   "source": [
    "## 2.2 Feature standartization"
   ]
  },
  {
   "cell_type": "code",
   "execution_count": 5,
   "id": "bfa163cb",
   "metadata": {},
   "outputs": [
    {
     "data": {
      "text/html": [
       "<div>\n",
       "<style scoped>\n",
       "    .dataframe tbody tr th:only-of-type {\n",
       "        vertical-align: middle;\n",
       "    }\n",
       "\n",
       "    .dataframe tbody tr th {\n",
       "        vertical-align: top;\n",
       "    }\n",
       "\n",
       "    .dataframe thead th {\n",
       "        text-align: right;\n",
       "    }\n",
       "</style>\n",
       "<table border=\"1\" class=\"dataframe\">\n",
       "  <thead>\n",
       "    <tr style=\"text-align: right;\">\n",
       "      <th></th>\n",
       "      <th>visit_number</th>\n",
       "      <th>utm_source</th>\n",
       "      <th>utm_medium</th>\n",
       "      <th>utm_campaign</th>\n",
       "      <th>utm_adcontent</th>\n",
       "      <th>device_category</th>\n",
       "      <th>device_brand</th>\n",
       "      <th>geo_country</th>\n",
       "      <th>geo_city</th>\n",
       "      <th>event_action</th>\n",
       "      <th>city_lat</th>\n",
       "      <th>city_long</th>\n",
       "      <th>short_browser</th>\n",
       "      <th>visit_dayofweek</th>\n",
       "      <th>visit_day</th>\n",
       "      <th>visit_month</th>\n",
       "      <th>visit_hour</th>\n",
       "      <th>pixel_width</th>\n",
       "      <th>pixel_height</th>\n",
       "    </tr>\n",
       "  </thead>\n",
       "  <tbody>\n",
       "    <tr>\n",
       "      <th>0</th>\n",
       "      <td>1</td>\n",
       "      <td>ZpYIoDJMcFzVoPFsHGJL</td>\n",
       "      <td>banner</td>\n",
       "      <td>LEoPHuyFvzoNfnzGgfcd</td>\n",
       "      <td>vCIpmpaGBnIQhyYNkXqp</td>\n",
       "      <td>mobile</td>\n",
       "      <td>Huawei</td>\n",
       "      <td>Russia</td>\n",
       "      <td>Zlatoust</td>\n",
       "      <td>0</td>\n",
       "      <td>55.167421</td>\n",
       "      <td>59.679263</td>\n",
       "      <td>Chrome</td>\n",
       "      <td>2</td>\n",
       "      <td>24</td>\n",
       "      <td>11</td>\n",
       "      <td>15</td>\n",
       "      <td>36.0</td>\n",
       "      <td>72.0</td>\n",
       "    </tr>\n",
       "    <tr>\n",
       "      <th>1</th>\n",
       "      <td>1</td>\n",
       "      <td>MvfHsxITijuriZxsqZqt</td>\n",
       "      <td>cpm</td>\n",
       "      <td>FTjNLDyTrXaWYgZymFkV</td>\n",
       "      <td>xhoenQgDQsgfEPYNPwKO</td>\n",
       "      <td>mobile</td>\n",
       "      <td>Samsung</td>\n",
       "      <td>Russia</td>\n",
       "      <td>Moscow</td>\n",
       "      <td>0</td>\n",
       "      <td>55.750446</td>\n",
       "      <td>37.617494</td>\n",
       "      <td>Samsung</td>\n",
       "      <td>6</td>\n",
       "      <td>14</td>\n",
       "      <td>11</td>\n",
       "      <td>8</td>\n",
       "      <td>38.0</td>\n",
       "      <td>85.0</td>\n",
       "    </tr>\n",
       "    <tr>\n",
       "      <th>2</th>\n",
       "      <td>1</td>\n",
       "      <td>ZpYIoDJMcFzVoPFsHGJL</td>\n",
       "      <td>banner</td>\n",
       "      <td>LEoPHuyFvzoNfnzGgfcd</td>\n",
       "      <td>vCIpmpaGBnIQhyYNkXqp</td>\n",
       "      <td>mobile</td>\n",
       "      <td>Huawei</td>\n",
       "      <td>Russia</td>\n",
       "      <td>Krasnoyarsk</td>\n",
       "      <td>0</td>\n",
       "      <td>56.009097</td>\n",
       "      <td>92.872515</td>\n",
       "      <td>Chrome</td>\n",
       "      <td>1</td>\n",
       "      <td>28</td>\n",
       "      <td>12</td>\n",
       "      <td>3</td>\n",
       "      <td>36.0</td>\n",
       "      <td>72.0</td>\n",
       "    </tr>\n",
       "    <tr>\n",
       "      <th>3</th>\n",
       "      <td>1</td>\n",
       "      <td>kjsLglQLzykiRbcDiGcD</td>\n",
       "      <td>organic</td>\n",
       "      <td>LTuZkdKfxRGVceoWkVyg</td>\n",
       "      <td>JNHcPlZPxEMWDnRiyoBf</td>\n",
       "      <td>mobile</td>\n",
       "      <td>Apple</td>\n",
       "      <td>Russia</td>\n",
       "      <td>Saint Petersburg</td>\n",
       "      <td>0</td>\n",
       "      <td>27.770380</td>\n",
       "      <td>-82.669509</td>\n",
       "      <td>Safari</td>\n",
       "      <td>0</td>\n",
       "      <td>31</td>\n",
       "      <td>5</td>\n",
       "      <td>12</td>\n",
       "      <td>38.0</td>\n",
       "      <td>81.0</td>\n",
       "    </tr>\n",
       "    <tr>\n",
       "      <th>4</th>\n",
       "      <td>1</td>\n",
       "      <td>TxKUcPpthBDPieTGmVhx</td>\n",
       "      <td>cpc</td>\n",
       "      <td>FTjNLDyTrXaWYgZymFkV</td>\n",
       "      <td>LcGIUNPUAmXtQJaDfFBR</td>\n",
       "      <td>tablet</td>\n",
       "      <td>Lenovo</td>\n",
       "      <td>Russia</td>\n",
       "      <td>Saint Petersburg</td>\n",
       "      <td>0</td>\n",
       "      <td>27.770380</td>\n",
       "      <td>-82.669509</td>\n",
       "      <td>YaBrowser</td>\n",
       "      <td>3</td>\n",
       "      <td>30</td>\n",
       "      <td>12</td>\n",
       "      <td>9</td>\n",
       "      <td>60.0</td>\n",
       "      <td>103.0</td>\n",
       "    </tr>\n",
       "  </tbody>\n",
       "</table>\n",
       "</div>"
      ],
      "text/plain": [
       "   visit_number            utm_source utm_medium          utm_campaign  \\\n",
       "0             1  ZpYIoDJMcFzVoPFsHGJL     banner  LEoPHuyFvzoNfnzGgfcd   \n",
       "1             1  MvfHsxITijuriZxsqZqt        cpm  FTjNLDyTrXaWYgZymFkV   \n",
       "2             1  ZpYIoDJMcFzVoPFsHGJL     banner  LEoPHuyFvzoNfnzGgfcd   \n",
       "3             1  kjsLglQLzykiRbcDiGcD    organic  LTuZkdKfxRGVceoWkVyg   \n",
       "4             1  TxKUcPpthBDPieTGmVhx        cpc  FTjNLDyTrXaWYgZymFkV   \n",
       "\n",
       "          utm_adcontent device_category device_brand geo_country  \\\n",
       "0  vCIpmpaGBnIQhyYNkXqp          mobile       Huawei      Russia   \n",
       "1  xhoenQgDQsgfEPYNPwKO          mobile      Samsung      Russia   \n",
       "2  vCIpmpaGBnIQhyYNkXqp          mobile       Huawei      Russia   \n",
       "3  JNHcPlZPxEMWDnRiyoBf          mobile        Apple      Russia   \n",
       "4  LcGIUNPUAmXtQJaDfFBR          tablet       Lenovo      Russia   \n",
       "\n",
       "           geo_city  event_action   city_lat  city_long short_browser  \\\n",
       "0          Zlatoust             0  55.167421  59.679263        Chrome   \n",
       "1            Moscow             0  55.750446  37.617494       Samsung   \n",
       "2       Krasnoyarsk             0  56.009097  92.872515        Chrome   \n",
       "3  Saint Petersburg             0  27.770380 -82.669509        Safari   \n",
       "4  Saint Petersburg             0  27.770380 -82.669509     YaBrowser   \n",
       "\n",
       "   visit_dayofweek  visit_day  visit_month  visit_hour  pixel_width  \\\n",
       "0                2         24           11          15         36.0   \n",
       "1                6         14           11           8         38.0   \n",
       "2                1         28           12           3         36.0   \n",
       "3                0         31            5          12         38.0   \n",
       "4                3         30           12           9         60.0   \n",
       "\n",
       "   pixel_height  \n",
       "0          72.0  \n",
       "1          85.0  \n",
       "2          72.0  \n",
       "3          81.0  \n",
       "4         103.0  "
      ]
     },
     "execution_count": 5,
     "metadata": {},
     "output_type": "execute_result"
    }
   ],
   "source": [
    "merged_df = pd.read_csv('data/merged_df_city_encoded.csv', index_col=0)\n",
    "merged_df.head(5)"
   ]
  },
  {
   "cell_type": "code",
   "execution_count": 3,
   "id": "f653beab",
   "metadata": {},
   "outputs": [],
   "source": [
    "quantity_varaiables = ['city_lat', 'city_long']\n",
    "data = merged_df.loc[:, quantity_varaiables]\n",
    "mm_scaler = MinMaxScaler()\n",
    "mm_scaler.fit(data)\n",
    "mm_scaled = mm_scaler.transform(data)\n",
    "merged_df[['lat_mm', 'long_mm']] = mm_scaled"
   ]
  },
  {
   "cell_type": "code",
   "execution_count": 4,
   "id": "aeafd714",
   "metadata": {},
   "outputs": [],
   "source": [
    "quantity_varaiables = ['visit_number', 'visit_dayofweek', 'visit_day', 'visit_month', 'visit_hour', 'pixel_width', 'pixel_height']\n",
    "data = merged_df.loc[:, quantity_varaiables]\n",
    "std_scaler = StandardScaler()\n",
    "std_scaler.fit(data)\n",
    "std_scaled = std_scaler.transform(data)\n",
    "renamed_columns = []\n",
    "for varaiable in quantity_varaiables:\n",
    "    renamed_columns.append(varaiable + '_std')\n",
    "merged_df[renamed_columns] = std_scaled\n",
    "data = None\n",
    "std_scaled = None"
   ]
  },
  {
   "cell_type": "code",
   "execution_count": 5,
   "id": "be667195",
   "metadata": {},
   "outputs": [],
   "source": [
    "merged_df = merged_df.drop([\n",
    "    'city_lat',\n",
    "    'city_long',\n",
    "    'pixel_width',\n",
    "    'pixel_height'\n",
    "], axis=1)"
   ]
  },
  {
   "cell_type": "markdown",
   "id": "9b43a73e",
   "metadata": {},
   "source": [
    "## 2.3 Downsampling dataset"
   ]
  },
  {
   "cell_type": "code",
   "execution_count": 6,
   "id": "2941e857",
   "metadata": {},
   "outputs": [
    {
     "data": {
      "text/plain": [
       "0    40999\n",
       "1    40999\n",
       "Name: event_action, dtype: int64"
      ]
     },
     "execution_count": 6,
     "metadata": {},
     "output_type": "execute_result"
    }
   ],
   "source": [
    "df_majority = merged_df[merged_df['event_action']==0]\n",
    "df_minority = merged_df[merged_df['event_action']==1]\n",
    "df_minority_len = df_minority.shape[0]\n",
    "df_majority_downsampled = resample(df_majority, \n",
    "                                 replace=False,    # sample without replacement\n",
    "                                 n_samples=df_minority_len,  # to match minority class\n",
    "                                 random_state=852) # reproducible results\n",
    "df_downsampled = pd.concat([df_majority_downsampled, df_minority])\n",
    "df_downsampled['event_action'].value_counts()"
   ]
  },
  {
   "cell_type": "code",
   "execution_count": 8,
   "id": "954aef6d",
   "metadata": {},
   "outputs": [],
   "source": [
    "merged_df = df_downsampled.copy()\n",
    "df_downsampled = None"
   ]
  },
  {
   "cell_type": "markdown",
   "id": "62d9cb4c",
   "metadata": {},
   "source": [
    "## 2.4 Feature Transformation"
   ]
  },
  {
   "cell_type": "code",
   "execution_count": 9,
   "id": "ee258f1b",
   "metadata": {},
   "outputs": [
    {
     "name": "stdout",
     "output_type": "stream",
     "text": [
      "В категории utm_source уникальных значений: 133\n",
      "В категории utm_medium уникальных значений: 36\n",
      "В категории utm_campaign уникальных значений: 189\n",
      "В категории utm_adcontent уникальных значений: 152\n",
      "В категории device_category уникальных значений: 3\n",
      "В категории device_brand уникальных значений: 77\n",
      "В категории short_browser уникальных значений: 16\n"
     ]
    }
   ],
   "source": [
    "target_categories = [\n",
    "    'utm_source',\n",
    "    'utm_medium',\n",
    "#     'utm_medium_type',\n",
    "    'utm_campaign',\n",
    "    'utm_adcontent',\n",
    "#     'utm_keyword',\n",
    "#     'visit_number',\n",
    "    'device_category',\n",
    "    'device_brand',\n",
    "    'short_browser',\n",
    "#     'device_os',\n",
    "#     'screen_category',\n",
    "#     'device_browser',\n",
    "#     'pixel_sum_std',\n",
    "#     'device_screen_resolution',\n",
    "#     'geo_country',\n",
    "#     'geo_city',\n",
    "#     'visit_dayofweek',\n",
    "#     'visit_day',\n",
    "#     'visit_month',\n",
    "#     'visit_hour'\n",
    "#     'visit_day_time',\n",
    "#     'week_part'\n",
    "]\n",
    "for category in target_categories:\n",
    "  print('В категории ' + category + ' уникальных значений: ' + str(merged_df[category].nunique()))"
   ]
  },
  {
   "cell_type": "code",
   "execution_count": 10,
   "id": "68b5f8a7",
   "metadata": {},
   "outputs": [],
   "source": [
    "data = merged_df.loc[:, target_categories]"
   ]
  },
  {
   "cell_type": "code",
   "execution_count": 11,
   "id": "a3a135b7",
   "metadata": {},
   "outputs": [
    {
     "data": {
      "text/plain": [
       "(81999, 606)"
      ]
     },
     "execution_count": 11,
     "metadata": {},
     "output_type": "execute_result"
    }
   ],
   "source": [
    "ohe = OneHotEncoder(sparse_output=False)\n",
    "ohe.fit(data)\n",
    "ohe_data = ohe.transform(data)\n",
    "ohe_data.shape"
   ]
  },
  {
   "cell_type": "code",
   "execution_count": 12,
   "id": "b8d01e3e",
   "metadata": {},
   "outputs": [],
   "source": [
    "ohe_data_df = pd.DataFrame(ohe_data,columns=list(ohe.get_feature_names_out()))"
   ]
  },
  {
   "cell_type": "code",
   "execution_count": 13,
   "id": "05efff7c",
   "metadata": {},
   "outputs": [],
   "source": [
    "merged_df = merged_df.drop([\n",
    "    'utm_source',\n",
    "    'utm_medium',\n",
    "    'utm_adcontent',\n",
    "    'utm_campaign',\n",
    "    'device_category',\n",
    "    'device_brand',\n",
    "    'short_browser',\n",
    "#     'device_os',\n",
    "#     'utm_keyword',\n",
    "#     'device_model',\n",
    "#     'screen_category',\n",
    "    'visit_number',\n",
    "#     'device_browser',\n",
    "#     'device_screen_resolution',\n",
    "    'geo_country',\n",
    "    'geo_city',\n",
    "#     'visit_day_time',\n",
    "#     'week_part',\n",
    "    'visit_dayofweek',\n",
    "    'visit_day',\n",
    "    'visit_month',\n",
    "    'visit_hour',\n",
    "], axis=1)"
   ]
  },
  {
   "cell_type": "code",
   "execution_count": 14,
   "id": "e0faa3db",
   "metadata": {},
   "outputs": [],
   "source": [
    "merged_df = pd.concat([merged_df.reset_index(drop=True), ohe_data_df.reset_index(drop=True)], axis=1)"
   ]
  },
  {
   "cell_type": "code",
   "execution_count": 15,
   "id": "1e118738",
   "metadata": {},
   "outputs": [],
   "source": [
    "ohe_data = None\n",
    "ohe_data_df = None"
   ]
  },
  {
   "cell_type": "markdown",
   "id": "9d841e8b",
   "metadata": {},
   "source": [
    "# 3 Modeling"
   ]
  },
  {
   "cell_type": "markdown",
   "id": "a61b93d8",
   "metadata": {},
   "source": [
    "## 3.1 C-Support Vector Classification "
   ]
  },
  {
   "cell_type": "code",
   "execution_count": 16,
   "id": "f2d9298d",
   "metadata": {},
   "outputs": [],
   "source": [
    "x = merged_df.drop(['event_action'], axis=1)\n",
    "y = merged_df['event_action']\n",
    "merged_df = None\n",
    "\n",
    "x_train, x_test, y_train, y_test = train_test_split(x, y, test_size=0.3, random_state=42)"
   ]
  },
  {
   "cell_type": "code",
   "execution_count": 17,
   "id": "fa707a82",
   "metadata": {},
   "outputs": [
    {
     "data": {
      "text/html": [
       "<style>#sk-container-id-1 {color: black;background-color: white;}#sk-container-id-1 pre{padding: 0;}#sk-container-id-1 div.sk-toggleable {background-color: white;}#sk-container-id-1 label.sk-toggleable__label {cursor: pointer;display: block;width: 100%;margin-bottom: 0;padding: 0.3em;box-sizing: border-box;text-align: center;}#sk-container-id-1 label.sk-toggleable__label-arrow:before {content: \"▸\";float: left;margin-right: 0.25em;color: #696969;}#sk-container-id-1 label.sk-toggleable__label-arrow:hover:before {color: black;}#sk-container-id-1 div.sk-estimator:hover label.sk-toggleable__label-arrow:before {color: black;}#sk-container-id-1 div.sk-toggleable__content {max-height: 0;max-width: 0;overflow: hidden;text-align: left;background-color: #f0f8ff;}#sk-container-id-1 div.sk-toggleable__content pre {margin: 0.2em;color: black;border-radius: 0.25em;background-color: #f0f8ff;}#sk-container-id-1 input.sk-toggleable__control:checked~div.sk-toggleable__content {max-height: 200px;max-width: 100%;overflow: auto;}#sk-container-id-1 input.sk-toggleable__control:checked~label.sk-toggleable__label-arrow:before {content: \"▾\";}#sk-container-id-1 div.sk-estimator input.sk-toggleable__control:checked~label.sk-toggleable__label {background-color: #d4ebff;}#sk-container-id-1 div.sk-label input.sk-toggleable__control:checked~label.sk-toggleable__label {background-color: #d4ebff;}#sk-container-id-1 input.sk-hidden--visually {border: 0;clip: rect(1px 1px 1px 1px);clip: rect(1px, 1px, 1px, 1px);height: 1px;margin: -1px;overflow: hidden;padding: 0;position: absolute;width: 1px;}#sk-container-id-1 div.sk-estimator {font-family: monospace;background-color: #f0f8ff;border: 1px dotted black;border-radius: 0.25em;box-sizing: border-box;margin-bottom: 0.5em;}#sk-container-id-1 div.sk-estimator:hover {background-color: #d4ebff;}#sk-container-id-1 div.sk-parallel-item::after {content: \"\";width: 100%;border-bottom: 1px solid gray;flex-grow: 1;}#sk-container-id-1 div.sk-label:hover label.sk-toggleable__label {background-color: #d4ebff;}#sk-container-id-1 div.sk-serial::before {content: \"\";position: absolute;border-left: 1px solid gray;box-sizing: border-box;top: 0;bottom: 0;left: 50%;z-index: 0;}#sk-container-id-1 div.sk-serial {display: flex;flex-direction: column;align-items: center;background-color: white;padding-right: 0.2em;padding-left: 0.2em;position: relative;}#sk-container-id-1 div.sk-item {position: relative;z-index: 1;}#sk-container-id-1 div.sk-parallel {display: flex;align-items: stretch;justify-content: center;background-color: white;position: relative;}#sk-container-id-1 div.sk-item::before, #sk-container-id-1 div.sk-parallel-item::before {content: \"\";position: absolute;border-left: 1px solid gray;box-sizing: border-box;top: 0;bottom: 0;left: 50%;z-index: -1;}#sk-container-id-1 div.sk-parallel-item {display: flex;flex-direction: column;z-index: 1;position: relative;background-color: white;}#sk-container-id-1 div.sk-parallel-item:first-child::after {align-self: flex-end;width: 50%;}#sk-container-id-1 div.sk-parallel-item:last-child::after {align-self: flex-start;width: 50%;}#sk-container-id-1 div.sk-parallel-item:only-child::after {width: 0;}#sk-container-id-1 div.sk-dashed-wrapped {border: 1px dashed gray;margin: 0 0.4em 0.5em 0.4em;box-sizing: border-box;padding-bottom: 0.4em;background-color: white;}#sk-container-id-1 div.sk-label label {font-family: monospace;font-weight: bold;display: inline-block;line-height: 1.2em;}#sk-container-id-1 div.sk-label-container {text-align: center;}#sk-container-id-1 div.sk-container {/* jupyter's `normalize.less` sets `[hidden] { display: none; }` but bootstrap.min.css set `[hidden] { display: none !important; }` so we also need the `!important` here to be able to override the default hidden behavior on the sphinx rendered scikit-learn.org. See: https://github.com/scikit-learn/scikit-learn/issues/21755 */display: inline-block !important;position: relative;}#sk-container-id-1 div.sk-text-repr-fallback {display: none;}</style><div id=\"sk-container-id-1\" class=\"sk-top-container\"><div class=\"sk-text-repr-fallback\"><pre>SVC(gamma=&#x27;auto&#x27;)</pre><b>In a Jupyter environment, please rerun this cell to show the HTML representation or trust the notebook. <br />On GitHub, the HTML representation is unable to render, please try loading this page with nbviewer.org.</b></div><div class=\"sk-container\" hidden><div class=\"sk-item\"><div class=\"sk-estimator sk-toggleable\"><input class=\"sk-toggleable__control sk-hidden--visually\" id=\"sk-estimator-id-1\" type=\"checkbox\" checked><label for=\"sk-estimator-id-1\" class=\"sk-toggleable__label sk-toggleable__label-arrow\">SVC</label><div class=\"sk-toggleable__content\"><pre>SVC(gamma=&#x27;auto&#x27;)</pre></div></div></div></div></div>"
      ],
      "text/plain": [
       "SVC(gamma='auto')"
      ]
     },
     "execution_count": 17,
     "metadata": {},
     "output_type": "execute_result"
    }
   ],
   "source": [
    "clf = SVC(gamma='auto')\n",
    "clf.fit(x_train, y_train)"
   ]
  },
  {
   "cell_type": "code",
   "execution_count": 18,
   "id": "492e766a",
   "metadata": {},
   "outputs": [
    {
     "name": "stdout",
     "output_type": "stream",
     "text": [
      "0.619349593495935\n"
     ]
    },
    {
     "data": {
      "text/plain": [
       "array([[5999, 6308],\n",
       "       [3056, 9237]])"
      ]
     },
     "execution_count": 18,
     "metadata": {},
     "output_type": "execute_result"
    }
   ],
   "source": [
    "predicted_test = clf.predict(x_test)\n",
    "print(accuracy_score(y_test, predicted_test))\n",
    "confusion_matrix(y_test, predicted_test)"
   ]
  },
  {
   "cell_type": "code",
   "execution_count": 36,
   "id": "1dfca5ed",
   "metadata": {},
   "outputs": [
    {
     "data": {
      "text/plain": [
       "0.6194247032309502"
      ]
     },
     "execution_count": 36,
     "metadata": {},
     "output_type": "execute_result"
    }
   ],
   "source": [
    "roc_auc_score(y_test, predicted_test)"
   ]
  },
  {
   "cell_type": "markdown",
   "id": "764f7ee1",
   "metadata": {},
   "source": [
    "## 3.2 Random Forecs Classifier"
   ]
  },
  {
   "cell_type": "code",
   "execution_count": 19,
   "id": "7a7dc11d",
   "metadata": {},
   "outputs": [
    {
     "data": {
      "text/html": [
       "<style>#sk-container-id-2 {color: black;background-color: white;}#sk-container-id-2 pre{padding: 0;}#sk-container-id-2 div.sk-toggleable {background-color: white;}#sk-container-id-2 label.sk-toggleable__label {cursor: pointer;display: block;width: 100%;margin-bottom: 0;padding: 0.3em;box-sizing: border-box;text-align: center;}#sk-container-id-2 label.sk-toggleable__label-arrow:before {content: \"▸\";float: left;margin-right: 0.25em;color: #696969;}#sk-container-id-2 label.sk-toggleable__label-arrow:hover:before {color: black;}#sk-container-id-2 div.sk-estimator:hover label.sk-toggleable__label-arrow:before {color: black;}#sk-container-id-2 div.sk-toggleable__content {max-height: 0;max-width: 0;overflow: hidden;text-align: left;background-color: #f0f8ff;}#sk-container-id-2 div.sk-toggleable__content pre {margin: 0.2em;color: black;border-radius: 0.25em;background-color: #f0f8ff;}#sk-container-id-2 input.sk-toggleable__control:checked~div.sk-toggleable__content {max-height: 200px;max-width: 100%;overflow: auto;}#sk-container-id-2 input.sk-toggleable__control:checked~label.sk-toggleable__label-arrow:before {content: \"▾\";}#sk-container-id-2 div.sk-estimator input.sk-toggleable__control:checked~label.sk-toggleable__label {background-color: #d4ebff;}#sk-container-id-2 div.sk-label input.sk-toggleable__control:checked~label.sk-toggleable__label {background-color: #d4ebff;}#sk-container-id-2 input.sk-hidden--visually {border: 0;clip: rect(1px 1px 1px 1px);clip: rect(1px, 1px, 1px, 1px);height: 1px;margin: -1px;overflow: hidden;padding: 0;position: absolute;width: 1px;}#sk-container-id-2 div.sk-estimator {font-family: monospace;background-color: #f0f8ff;border: 1px dotted black;border-radius: 0.25em;box-sizing: border-box;margin-bottom: 0.5em;}#sk-container-id-2 div.sk-estimator:hover {background-color: #d4ebff;}#sk-container-id-2 div.sk-parallel-item::after {content: \"\";width: 100%;border-bottom: 1px solid gray;flex-grow: 1;}#sk-container-id-2 div.sk-label:hover label.sk-toggleable__label {background-color: #d4ebff;}#sk-container-id-2 div.sk-serial::before {content: \"\";position: absolute;border-left: 1px solid gray;box-sizing: border-box;top: 0;bottom: 0;left: 50%;z-index: 0;}#sk-container-id-2 div.sk-serial {display: flex;flex-direction: column;align-items: center;background-color: white;padding-right: 0.2em;padding-left: 0.2em;position: relative;}#sk-container-id-2 div.sk-item {position: relative;z-index: 1;}#sk-container-id-2 div.sk-parallel {display: flex;align-items: stretch;justify-content: center;background-color: white;position: relative;}#sk-container-id-2 div.sk-item::before, #sk-container-id-2 div.sk-parallel-item::before {content: \"\";position: absolute;border-left: 1px solid gray;box-sizing: border-box;top: 0;bottom: 0;left: 50%;z-index: -1;}#sk-container-id-2 div.sk-parallel-item {display: flex;flex-direction: column;z-index: 1;position: relative;background-color: white;}#sk-container-id-2 div.sk-parallel-item:first-child::after {align-self: flex-end;width: 50%;}#sk-container-id-2 div.sk-parallel-item:last-child::after {align-self: flex-start;width: 50%;}#sk-container-id-2 div.sk-parallel-item:only-child::after {width: 0;}#sk-container-id-2 div.sk-dashed-wrapped {border: 1px dashed gray;margin: 0 0.4em 0.5em 0.4em;box-sizing: border-box;padding-bottom: 0.4em;background-color: white;}#sk-container-id-2 div.sk-label label {font-family: monospace;font-weight: bold;display: inline-block;line-height: 1.2em;}#sk-container-id-2 div.sk-label-container {text-align: center;}#sk-container-id-2 div.sk-container {/* jupyter's `normalize.less` sets `[hidden] { display: none; }` but bootstrap.min.css set `[hidden] { display: none !important; }` so we also need the `!important` here to be able to override the default hidden behavior on the sphinx rendered scikit-learn.org. See: https://github.com/scikit-learn/scikit-learn/issues/21755 */display: inline-block !important;position: relative;}#sk-container-id-2 div.sk-text-repr-fallback {display: none;}</style><div id=\"sk-container-id-2\" class=\"sk-top-container\"><div class=\"sk-text-repr-fallback\"><pre>RandomForestClassifier(min_samples_split=15, n_estimators=200, random_state=42)</pre><b>In a Jupyter environment, please rerun this cell to show the HTML representation or trust the notebook. <br />On GitHub, the HTML representation is unable to render, please try loading this page with nbviewer.org.</b></div><div class=\"sk-container\" hidden><div class=\"sk-item\"><div class=\"sk-estimator sk-toggleable\"><input class=\"sk-toggleable__control sk-hidden--visually\" id=\"sk-estimator-id-2\" type=\"checkbox\" checked><label for=\"sk-estimator-id-2\" class=\"sk-toggleable__label sk-toggleable__label-arrow\">RandomForestClassifier</label><div class=\"sk-toggleable__content\"><pre>RandomForestClassifier(min_samples_split=15, n_estimators=200, random_state=42)</pre></div></div></div></div></div>"
      ],
      "text/plain": [
       "RandomForestClassifier(min_samples_split=15, n_estimators=200, random_state=42)"
      ]
     },
     "execution_count": 19,
     "metadata": {},
     "output_type": "execute_result"
    }
   ],
   "source": [
    "rf_clf = RandomForestClassifier(random_state=42, bootstrap=True, n_estimators=200, min_samples_split=15)\n",
    "rf_clf.fit(x_train, y_train)"
   ]
  },
  {
   "cell_type": "code",
   "execution_count": 20,
   "id": "ee9736e4",
   "metadata": {},
   "outputs": [
    {
     "name": "stdout",
     "output_type": "stream",
     "text": [
      "0.6478048780487805\n",
      "0.8450669872297427\n"
     ]
    },
    {
     "data": {
      "text/plain": [
       "array([[7484, 4823],\n",
       "       [3841, 8452]])"
      ]
     },
     "execution_count": 20,
     "metadata": {},
     "output_type": "execute_result"
    }
   ],
   "source": [
    "predicted_test_rf = rf_clf.predict(x_test)\n",
    "print(accuracy_score(y_test, predicted_test_rf))\n",
    "predicted_train_rf = rf_clf.predict(x_train)\n",
    "print(accuracy_score(y_train, predicted_train_rf))\n",
    "confusion_matrix(y_test, predicted_test_rf)"
   ]
  },
  {
   "cell_type": "code",
   "execution_count": 21,
   "id": "f3d6a723",
   "metadata": {},
   "outputs": [
    {
     "data": {
      "text/plain": [
       "array([[0.45988153, 0.54011847],\n",
       "       [0.38244557, 0.61755443],\n",
       "       [0.97406005, 0.02593995],\n",
       "       ...,\n",
       "       [0.6089919 , 0.3910081 ],\n",
       "       [0.79763295, 0.20236705],\n",
       "       [0.32590608, 0.67409392]])"
      ]
     },
     "execution_count": 21,
     "metadata": {},
     "output_type": "execute_result"
    }
   ],
   "source": [
    "predicted_proba = rf_clf.predict_proba(x_test)\n",
    "predicted_proba"
   ]
  },
  {
   "cell_type": "code",
   "execution_count": 22,
   "id": "ce56cd19",
   "metadata": {},
   "outputs": [],
   "source": [
    "threshold = 0.515\n",
    "predicted_proba1 = rf_clf.predict_proba(x_test)\n",
    "predicted1 = (predicted_proba1 [:,1] >= threshold).astype('int')"
   ]
  },
  {
   "cell_type": "code",
   "execution_count": 23,
   "id": "b13b9ef0",
   "metadata": {},
   "outputs": [
    {
     "data": {
      "text/plain": [
       "0.6478274819455788"
      ]
     },
     "execution_count": 23,
     "metadata": {},
     "output_type": "execute_result"
    }
   ],
   "source": [
    "roc_auc_score(y_test, predicted_test_rf)"
   ]
  },
  {
   "cell_type": "code",
   "execution_count": 24,
   "id": "62198aca",
   "metadata": {},
   "outputs": [
    {
     "name": "stdout",
     "output_type": "stream",
     "text": [
      "0.6478048780487805\n"
     ]
    },
    {
     "data": {
      "text/plain": [
       "array([[7888, 4419],\n",
       "       [4245, 8048]])"
      ]
     },
     "execution_count": 24,
     "metadata": {},
     "output_type": "execute_result"
    }
   ],
   "source": [
    "print(accuracy_score(y_test, predicted1))\n",
    "confusion_matrix(y_test, predicted1)"
   ]
  },
  {
   "cell_type": "code",
   "execution_count": 25,
   "id": "e4f5d180",
   "metadata": {},
   "outputs": [
    {
     "data": {
      "text/plain": [
       "0.6478087893623549"
      ]
     },
     "execution_count": 25,
     "metadata": {},
     "output_type": "execute_result"
    }
   ],
   "source": [
    "# 0.6402849497682014 без фильтрации unknown в utm_compaign и utm_adcontent\n",
    "roc_auc_score(y_test, predicted1)"
   ]
  },
  {
   "cell_type": "markdown",
   "id": "28be87b2",
   "metadata": {},
   "source": [
    "## 3.3 MPL Classifier"
   ]
  },
  {
   "cell_type": "code",
   "execution_count": 26,
   "id": "4822b21c",
   "metadata": {
    "scrolled": true
   },
   "outputs": [
    {
     "name": "stderr",
     "output_type": "stream",
     "text": [
      "/home/roman/anaconda3/lib/python3.10/site-packages/sklearn/neural_network/_multilayer_perceptron.py:541: ConvergenceWarning: lbfgs failed to converge (status=1):\n",
      "STOP: TOTAL NO. of ITERATIONS REACHED LIMIT.\n",
      "\n",
      "Increase the number of iterations (max_iter) or scale the data as shown in:\n",
      "    https://scikit-learn.org/stable/modules/preprocessing.html\n",
      "  self.n_iter_ = _check_optimize_result(\"lbfgs\", opt_res, self.max_iter)\n"
     ]
    },
    {
     "data": {
      "text/html": [
       "<style>#sk-container-id-3 {color: black;background-color: white;}#sk-container-id-3 pre{padding: 0;}#sk-container-id-3 div.sk-toggleable {background-color: white;}#sk-container-id-3 label.sk-toggleable__label {cursor: pointer;display: block;width: 100%;margin-bottom: 0;padding: 0.3em;box-sizing: border-box;text-align: center;}#sk-container-id-3 label.sk-toggleable__label-arrow:before {content: \"▸\";float: left;margin-right: 0.25em;color: #696969;}#sk-container-id-3 label.sk-toggleable__label-arrow:hover:before {color: black;}#sk-container-id-3 div.sk-estimator:hover label.sk-toggleable__label-arrow:before {color: black;}#sk-container-id-3 div.sk-toggleable__content {max-height: 0;max-width: 0;overflow: hidden;text-align: left;background-color: #f0f8ff;}#sk-container-id-3 div.sk-toggleable__content pre {margin: 0.2em;color: black;border-radius: 0.25em;background-color: #f0f8ff;}#sk-container-id-3 input.sk-toggleable__control:checked~div.sk-toggleable__content {max-height: 200px;max-width: 100%;overflow: auto;}#sk-container-id-3 input.sk-toggleable__control:checked~label.sk-toggleable__label-arrow:before {content: \"▾\";}#sk-container-id-3 div.sk-estimator input.sk-toggleable__control:checked~label.sk-toggleable__label {background-color: #d4ebff;}#sk-container-id-3 div.sk-label input.sk-toggleable__control:checked~label.sk-toggleable__label {background-color: #d4ebff;}#sk-container-id-3 input.sk-hidden--visually {border: 0;clip: rect(1px 1px 1px 1px);clip: rect(1px, 1px, 1px, 1px);height: 1px;margin: -1px;overflow: hidden;padding: 0;position: absolute;width: 1px;}#sk-container-id-3 div.sk-estimator {font-family: monospace;background-color: #f0f8ff;border: 1px dotted black;border-radius: 0.25em;box-sizing: border-box;margin-bottom: 0.5em;}#sk-container-id-3 div.sk-estimator:hover {background-color: #d4ebff;}#sk-container-id-3 div.sk-parallel-item::after {content: \"\";width: 100%;border-bottom: 1px solid gray;flex-grow: 1;}#sk-container-id-3 div.sk-label:hover label.sk-toggleable__label {background-color: #d4ebff;}#sk-container-id-3 div.sk-serial::before {content: \"\";position: absolute;border-left: 1px solid gray;box-sizing: border-box;top: 0;bottom: 0;left: 50%;z-index: 0;}#sk-container-id-3 div.sk-serial {display: flex;flex-direction: column;align-items: center;background-color: white;padding-right: 0.2em;padding-left: 0.2em;position: relative;}#sk-container-id-3 div.sk-item {position: relative;z-index: 1;}#sk-container-id-3 div.sk-parallel {display: flex;align-items: stretch;justify-content: center;background-color: white;position: relative;}#sk-container-id-3 div.sk-item::before, #sk-container-id-3 div.sk-parallel-item::before {content: \"\";position: absolute;border-left: 1px solid gray;box-sizing: border-box;top: 0;bottom: 0;left: 50%;z-index: -1;}#sk-container-id-3 div.sk-parallel-item {display: flex;flex-direction: column;z-index: 1;position: relative;background-color: white;}#sk-container-id-3 div.sk-parallel-item:first-child::after {align-self: flex-end;width: 50%;}#sk-container-id-3 div.sk-parallel-item:last-child::after {align-self: flex-start;width: 50%;}#sk-container-id-3 div.sk-parallel-item:only-child::after {width: 0;}#sk-container-id-3 div.sk-dashed-wrapped {border: 1px dashed gray;margin: 0 0.4em 0.5em 0.4em;box-sizing: border-box;padding-bottom: 0.4em;background-color: white;}#sk-container-id-3 div.sk-label label {font-family: monospace;font-weight: bold;display: inline-block;line-height: 1.2em;}#sk-container-id-3 div.sk-label-container {text-align: center;}#sk-container-id-3 div.sk-container {/* jupyter's `normalize.less` sets `[hidden] { display: none; }` but bootstrap.min.css set `[hidden] { display: none !important; }` so we also need the `!important` here to be able to override the default hidden behavior on the sphinx rendered scikit-learn.org. See: https://github.com/scikit-learn/scikit-learn/issues/21755 */display: inline-block !important;position: relative;}#sk-container-id-3 div.sk-text-repr-fallback {display: none;}</style><div id=\"sk-container-id-3\" class=\"sk-top-container\"><div class=\"sk-text-repr-fallback\"><pre>MLPClassifier(activation=&#x27;tanh&#x27;, alpha=0.001, hidden_layer_sizes=5,\n",
       "              learning_rate=&#x27;adaptive&#x27;, learning_rate_init=0.01, max_iter=3200,\n",
       "              random_state=42, shuffle=False, solver=&#x27;lbfgs&#x27;)</pre><b>In a Jupyter environment, please rerun this cell to show the HTML representation or trust the notebook. <br />On GitHub, the HTML representation is unable to render, please try loading this page with nbviewer.org.</b></div><div class=\"sk-container\" hidden><div class=\"sk-item\"><div class=\"sk-estimator sk-toggleable\"><input class=\"sk-toggleable__control sk-hidden--visually\" id=\"sk-estimator-id-3\" type=\"checkbox\" checked><label for=\"sk-estimator-id-3\" class=\"sk-toggleable__label sk-toggleable__label-arrow\">MLPClassifier</label><div class=\"sk-toggleable__content\"><pre>MLPClassifier(activation=&#x27;tanh&#x27;, alpha=0.001, hidden_layer_sizes=5,\n",
       "              learning_rate=&#x27;adaptive&#x27;, learning_rate_init=0.01, max_iter=3200,\n",
       "              random_state=42, shuffle=False, solver=&#x27;lbfgs&#x27;)</pre></div></div></div></div></div>"
      ],
      "text/plain": [
       "MLPClassifier(activation='tanh', alpha=0.001, hidden_layer_sizes=5,\n",
       "              learning_rate='adaptive', learning_rate_init=0.01, max_iter=3200,\n",
       "              random_state=42, shuffle=False, solver='lbfgs')"
      ]
     },
     "execution_count": 26,
     "metadata": {},
     "output_type": "execute_result"
    }
   ],
   "source": [
    "mlp = MLPClassifier(random_state=42, activation='tanh', max_iter=3200, hidden_layer_sizes=5, learning_rate='adaptive', solver='lbfgs', learning_rate_init = 0.01, shuffle = False, alpha= 0.001)\n",
    "mlp.fit(x_train, y_train)"
   ]
  },
  {
   "cell_type": "code",
   "execution_count": 27,
   "id": "d664073f",
   "metadata": {},
   "outputs": [
    {
     "data": {
      "text/plain": [
       "0.6358943089430894"
      ]
     },
     "execution_count": 27,
     "metadata": {},
     "output_type": "execute_result"
    }
   ],
   "source": [
    "pred_mlp = mlp.predict(x_test)\n",
    "accuracy_score(y_test, pred_mlp)"
   ]
  },
  {
   "cell_type": "code",
   "execution_count": 28,
   "id": "5d0b2ef3",
   "metadata": {},
   "outputs": [
    {
     "data": {
      "text/plain": [
       "array([[7315, 4992],\n",
       "       [3965, 8328]])"
      ]
     },
     "execution_count": 28,
     "metadata": {},
     "output_type": "execute_result"
    }
   ],
   "source": [
    "confusion_matrix(y_test, pred_mlp)"
   ]
  },
  {
   "cell_type": "code",
   "execution_count": 29,
   "id": "eeebfa5e",
   "metadata": {},
   "outputs": [
    {
     "data": {
      "text/plain": [
       "0.635917950029609"
      ]
     },
     "execution_count": 29,
     "metadata": {},
     "output_type": "execute_result"
    }
   ],
   "source": [
    "roc_auc_score(y_test, pred_mlp)"
   ]
  },
  {
   "cell_type": "code",
   "execution_count": 30,
   "id": "a2d030d3",
   "metadata": {},
   "outputs": [],
   "source": [
    "threshold_mlp = 0.61\n",
    "predicted_proba_mlp = mlp.predict_proba(x_test)\n",
    "predicted_mlp = (predicted_proba_mlp [:,1] >= threshold_mlp).astype('int')"
   ]
  },
  {
   "cell_type": "code",
   "execution_count": 31,
   "id": "253541ce",
   "metadata": {},
   "outputs": [],
   "source": [
    "accuracy_mlp = accuracy_score(y_test, predicted_mlp)"
   ]
  },
  {
   "cell_type": "code",
   "execution_count": 32,
   "id": "c1d9aa97",
   "metadata": {},
   "outputs": [
    {
     "data": {
      "text/plain": [
       "0.6084959349593496"
      ]
     },
     "execution_count": 32,
     "metadata": {},
     "output_type": "execute_result"
    }
   ],
   "source": [
    "accuracy_mlp"
   ]
  },
  {
   "cell_type": "code",
   "execution_count": 33,
   "id": "9b7805b2",
   "metadata": {},
   "outputs": [
    {
     "data": {
      "text/plain": [
       "array([[9987, 2320],\n",
       "       [7311, 4982]])"
      ]
     },
     "execution_count": 33,
     "metadata": {},
     "output_type": "execute_result"
    }
   ],
   "source": [
    "confusion_matrix(y_test, predicted_mlp)"
   ]
  },
  {
   "cell_type": "code",
   "execution_count": 34,
   "id": "1ffa58f2",
   "metadata": {},
   "outputs": [
    {
     "data": {
      "text/plain": [
       "0.6083803444420443"
      ]
     },
     "execution_count": 34,
     "metadata": {},
     "output_type": "execute_result"
    }
   ],
   "source": [
    "roc_auc_score(y_test, predicted_mlp)"
   ]
  },
  {
   "cell_type": "code",
   "execution_count": 35,
   "id": "97a099f3",
   "metadata": {},
   "outputs": [
    {
     "name": "stdout",
     "output_type": "stream",
     "text": [
      "15\n",
      "0.5507330225786113\n",
      "16\n",
      "0.5533321509238905\n",
      "17\n",
      "0.5560534850064165\n",
      "18\n",
      "0.5584494306565014\n",
      "19\n",
      "0.5609672118936704\n",
      "20\n",
      "0.5618996961668656\n",
      "21\n",
      "0.5638887212013176\n",
      "22\n",
      "0.567259120204223\n",
      "23\n",
      "0.5701418529773996\n",
      "24\n",
      "0.5732279997896226\n",
      "25\n",
      "0.5759887581694041\n",
      "26\n",
      "0.5783026626798233\n",
      "27\n",
      "0.5811449069740263\n",
      "28\n",
      "0.5844738458537805\n",
      "29\n",
      "0.5876399054422327\n",
      "30\n",
      "0.5903186226823486\n",
      "31\n",
      "0.5926718126837123\n",
      "32\n",
      "0.59506553743282\n",
      "33\n",
      "0.5974178020587765\n",
      "34\n",
      "0.6007457230255828\n",
      "35\n",
      "0.6035044455794688\n",
      "36\n",
      "0.6054903706063068\n",
      "37\n",
      "0.6086954380730814\n",
      "38\n",
      "0.6121428811884537\n",
      "39\n",
      "0.615589352659649\n",
      "40\n",
      "0.6187515256713911\n",
      "41\n",
      "0.6211404847371522\n",
      "42\n",
      "0.6245866323269547\n",
      "43\n",
      "0.6275843066404324\n",
      "44\n",
      "0.6294439080094619\n",
      "45\n",
      "0.6307740128754487\n",
      "46\n",
      "0.6323067914801559\n",
      "47\n",
      "0.6348163368762014\n",
      "48\n",
      "0.6350485333953211\n",
      "49\n",
      "0.6353617994099291\n",
      "50\n",
      "0.635917950029609\n",
      "51\n",
      "0.6367993502754192\n",
      "52\n",
      "0.6361352480046741\n",
      "53\n",
      "0.6349841272669854\n",
      "54\n",
      "0.6331419725292925\n",
      "55\n",
      "0.6304860228291038\n",
      "56\n",
      "0.6277912040569039\n",
      "57\n",
      "0.6240788524017697\n",
      "58\n",
      "0.6205293337691675\n",
      "59\n",
      "0.6171835530570038\n"
     ]
    }
   ],
   "source": [
    "for item in range(15,60):\n",
    "    threshold_mlp = item/100\n",
    "    predicted_proba_mlp = mlp.predict_proba(x_test)\n",
    "    predicted_mlp = (predicted_proba_mlp [:,1] >= threshold_mlp).astype('int')\n",
    "    print(item)\n",
    "    print(roc_auc_score(y_test, predicted_mlp))"
   ]
  },
  {
   "cell_type": "code",
   "execution_count": null,
   "id": "c686103f",
   "metadata": {},
   "outputs": [],
   "source": []
  }
 ],
 "metadata": {
  "kernelspec": {
   "display_name": "Python 3 (ipykernel)",
   "language": "python",
   "name": "python3"
  },
  "language_info": {
   "codemirror_mode": {
    "name": "ipython",
    "version": 3
   },
   "file_extension": ".py",
   "mimetype": "text/x-python",
   "name": "python",
   "nbconvert_exporter": "python",
   "pygments_lexer": "ipython3",
   "version": "3.10.9"
  }
 },
 "nbformat": 4,
 "nbformat_minor": 5
}
